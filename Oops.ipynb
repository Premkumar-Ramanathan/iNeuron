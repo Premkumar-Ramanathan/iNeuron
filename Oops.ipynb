{
  "nbformat": 4,
  "nbformat_minor": 0,
  "metadata": {
    "colab": {
      "provenance": [],
      "authorship_tag": "ABX9TyPa6U6pRwZ8UTP8LU2+XHNG",
      "include_colab_link": true
    },
    "kernelspec": {
      "name": "python3",
      "display_name": "Python 3"
    },
    "language_info": {
      "name": "python"
    }
  },
  "cells": [
    {
      "cell_type": "markdown",
      "metadata": {
        "id": "view-in-github",
        "colab_type": "text"
      },
      "source": [
        "<a href=\"https://colab.research.google.com/github/Premkumar-Ramanathan/iNeuron/blob/main/Oops.ipynb\" target=\"_parent\"><img src=\"https://colab.research.google.com/assets/colab-badge.svg\" alt=\"Open In Colab\"/></a>"
      ]
    },
    {
      "cell_type": "code",
      "execution_count": 1,
      "metadata": {
        "id": "z3cadVVSTg3W"
      },
      "outputs": [],
      "source": [
        "class car:\n",
        "  def start():\n",
        "    print('Car Started')\n",
        "\n",
        "  def stop():\n",
        "    print('Car Stopped')"
      ]
    },
    {
      "cell_type": "code",
      "source": [
        "from statistics import mean"
      ],
      "metadata": {
        "id": "z9fZZd1c80Lu"
      },
      "execution_count": 69,
      "outputs": []
    },
    {
      "cell_type": "code",
      "source": [
        "wagonR = car()"
      ],
      "metadata": {
        "id": "vFtn5Lk5lU9T"
      },
      "execution_count": 2,
      "outputs": []
    },
    {
      "cell_type": "code",
      "source": [
        "print(type(wagonR))"
      ],
      "metadata": {
        "colab": {
          "base_uri": "https://localhost:8080/"
        },
        "id": "wzfpv6YblU_f",
        "outputId": "8fbe231c-254f-4e9d-84f6-02c3d03ab077"
      },
      "execution_count": 3,
      "outputs": [
        {
          "output_type": "stream",
          "name": "stdout",
          "text": [
            "<class '__main__.car'>\n"
          ]
        }
      ]
    },
    {
      "cell_type": "code",
      "source": [
        "santro = car()\n",
        "print(type(santro))"
      ],
      "metadata": {
        "colab": {
          "base_uri": "https://localhost:8080/"
        },
        "id": "UsiCZXmtlVBg",
        "outputId": "9ece7dad-0951-4ccd-dd5a-a7b34171833f"
      },
      "execution_count": 4,
      "outputs": [
        {
          "output_type": "stream",
          "name": "stdout",
          "text": [
            "<class '__main__.car'>\n"
          ]
        }
      ]
    },
    {
      "cell_type": "code",
      "source": [
        "car.start()"
      ],
      "metadata": {
        "colab": {
          "base_uri": "https://localhost:8080/"
        },
        "id": "xi6wVbPulVD1",
        "outputId": "66e463d9-5200-4ff0-ee2a-09c388de13f0"
      },
      "execution_count": 5,
      "outputs": [
        {
          "output_type": "stream",
          "name": "stdout",
          "text": [
            "Car Started\n"
          ]
        }
      ]
    },
    {
      "cell_type": "code",
      "source": [
        "car.stop()"
      ],
      "metadata": {
        "colab": {
          "base_uri": "https://localhost:8080/"
        },
        "id": "IOdpU322lVHP",
        "outputId": "0254eab6-0629-4c35-ecce-1da112e76ee4"
      },
      "execution_count": 6,
      "outputs": [
        {
          "output_type": "stream",
          "name": "stdout",
          "text": [
            "Car Stopped\n"
          ]
        }
      ]
    },
    {
      "cell_type": "code",
      "source": [
        "class ATM():\n",
        "  def __init__(self):\n",
        "    print(\"I'm a magic method, you didn't call me but I still got call.\")\n",
        "    print(\"Creating an object of class ATM\")\n",
        "  def check_balance(self):\n",
        "    print(\"Balance is zero\")\n",
        "  def change_pin(self):\n",
        "    print(\"Pin changed\")"
      ],
      "metadata": {
        "id": "JTRB-ou84O1-"
      },
      "execution_count": 39,
      "outputs": []
    },
    {
      "cell_type": "code",
      "source": [
        "a1 = ATM()"
      ],
      "metadata": {
        "colab": {
          "base_uri": "https://localhost:8080/"
        },
        "id": "Yb015UeX4O4M",
        "outputId": "7b80d390-4251-46eb-b1fd-329a8518ae20"
      },
      "execution_count": 40,
      "outputs": [
        {
          "output_type": "stream",
          "name": "stdout",
          "text": [
            "I'm a magic method, you didn't call me but I still got call.\n",
            "Creating an object of class ATM\n"
          ]
        }
      ]
    },
    {
      "cell_type": "code",
      "source": [
        "a1.check_balance()"
      ],
      "metadata": {
        "colab": {
          "base_uri": "https://localhost:8080/"
        },
        "id": "xfk56IbJ4O6v",
        "outputId": "c35915ad-796f-42bb-82cb-8b2ffe48ae89"
      },
      "execution_count": 30,
      "outputs": [
        {
          "output_type": "stream",
          "name": "stdout",
          "text": [
            "Balance is zero\n"
          ]
        }
      ]
    },
    {
      "cell_type": "code",
      "source": [
        "print(dir(list()))"
      ],
      "metadata": {
        "colab": {
          "base_uri": "https://localhost:8080/"
        },
        "id": "tDaK7xyQ4O-L",
        "outputId": "32cb1e14-0ba1-43d8-854f-b9cf37b5f7f0"
      },
      "execution_count": 46,
      "outputs": [
        {
          "output_type": "stream",
          "name": "stdout",
          "text": [
            "['__add__', '__class__', '__class_getitem__', '__contains__', '__delattr__', '__delitem__', '__dir__', '__doc__', '__eq__', '__format__', '__ge__', '__getattribute__', '__getitem__', '__gt__', '__hash__', '__iadd__', '__imul__', '__init__', '__init_subclass__', '__iter__', '__le__', '__len__', '__lt__', '__mul__', '__ne__', '__new__', '__reduce__', '__reduce_ex__', '__repr__', '__reversed__', '__rmul__', '__setattr__', '__setitem__', '__sizeof__', '__str__', '__subclasshook__', 'append', 'clear', 'copy', 'count', 'extend', 'index', 'insert', 'pop', 'remove', 'reverse', 'sort']\n"
          ]
        }
      ]
    },
    {
      "cell_type": "code",
      "source": [
        "print(dir(set()))"
      ],
      "metadata": {
        "colab": {
          "base_uri": "https://localhost:8080/"
        },
        "id": "aesM6sU34oHb",
        "outputId": "764822bc-f351-43b6-b77d-a8c90a8c81e4"
      },
      "execution_count": 45,
      "outputs": [
        {
          "output_type": "stream",
          "name": "stdout",
          "text": [
            "['__and__', '__class__', '__class_getitem__', '__contains__', '__delattr__', '__dir__', '__doc__', '__eq__', '__format__', '__ge__', '__getattribute__', '__gt__', '__hash__', '__iand__', '__init__', '__init_subclass__', '__ior__', '__isub__', '__iter__', '__ixor__', '__le__', '__len__', '__lt__', '__ne__', '__new__', '__or__', '__rand__', '__reduce__', '__reduce_ex__', '__repr__', '__ror__', '__rsub__', '__rxor__', '__setattr__', '__sizeof__', '__str__', '__sub__', '__subclasshook__', '__xor__', 'add', 'clear', 'copy', 'difference', 'difference_update', 'discard', 'intersection', 'intersection_update', 'isdisjoint', 'issubset', 'issuperset', 'pop', 'remove', 'symmetric_difference', 'symmetric_difference_update', 'union', 'update']\n"
          ]
        }
      ]
    },
    {
      "cell_type": "code",
      "source": [
        "class Student():\n",
        "  def __init__(self):\n",
        "    print(\"I'm a student object\")\n",
        "    print('The address of self is ' + str(id(self)))\n",
        "  def study(self):\n",
        "    print(id(self))\n",
        "    print(\"Ok I will study\")\n",
        "  def play(self):\n",
        "    print(id(self))\n",
        "    print(self)\n",
        "    print(\"I will study tomorrow, let's play\")\n",
        "  def myfunc(self,firstargument):\n",
        "    print(firstargument)"
      ],
      "metadata": {
        "id": "mNTOwoal4oJp"
      },
      "execution_count": 60,
      "outputs": []
    },
    {
      "cell_type": "code",
      "source": [
        "s1 = Student()"
      ],
      "metadata": {
        "colab": {
          "base_uri": "https://localhost:8080/"
        },
        "id": "RO8LV5lO4oL9",
        "outputId": "f28534cf-9702-43bc-9b45-33c91261750f"
      },
      "execution_count": 57,
      "outputs": [
        {
          "output_type": "stream",
          "name": "stdout",
          "text": [
            "I'm a student object\n",
            "The address of self is 134243143937776\n"
          ]
        }
      ]
    },
    {
      "cell_type": "code",
      "source": [
        "s1.study()"
      ],
      "metadata": {
        "colab": {
          "base_uri": "https://localhost:8080/"
        },
        "id": "I9UiyT9u4oOo",
        "outputId": "4bb3e522-58bd-4169-d95c-7d0d3e3fa76a"
      },
      "execution_count": 58,
      "outputs": [
        {
          "output_type": "stream",
          "name": "stdout",
          "text": [
            "134243143937776\n",
            "Ok I will study\n"
          ]
        }
      ]
    },
    {
      "cell_type": "code",
      "source": [
        "s1.play()"
      ],
      "metadata": {
        "colab": {
          "base_uri": "https://localhost:8080/"
        },
        "id": "hoimvnFl4oRC",
        "outputId": "29f7a61d-703e-4aa4-970b-74cc2c33b118"
      },
      "execution_count": 59,
      "outputs": [
        {
          "output_type": "stream",
          "name": "stdout",
          "text": [
            "134243143937776\n",
            "<__main__.Student object at 0x7a17eae86ef0>\n",
            "I will study tomorrow, let's play\n"
          ]
        }
      ]
    },
    {
      "cell_type": "code",
      "source": [
        "s2 = Student()"
      ],
      "metadata": {
        "colab": {
          "base_uri": "https://localhost:8080/"
        },
        "id": "EM2qBBC24oUL",
        "outputId": "e772a252-efdb-4936-f3f4-91df54c2fa9a"
      },
      "execution_count": 61,
      "outputs": [
        {
          "output_type": "stream",
          "name": "stdout",
          "text": [
            "I'm a student object\n",
            "The address of self is 134243143932688\n"
          ]
        }
      ]
    },
    {
      "cell_type": "code",
      "source": [
        "s2.myfunc(123)"
      ],
      "metadata": {
        "colab": {
          "base_uri": "https://localhost:8080/"
        },
        "id": "NAwx3rRH4mRR",
        "outputId": "fff3e368-b588-488f-8b34-5bc7dad938c1"
      },
      "execution_count": 62,
      "outputs": [
        {
          "output_type": "stream",
          "name": "stdout",
          "text": [
            "123\n"
          ]
        }
      ]
    },
    {
      "cell_type": "code",
      "source": [],
      "metadata": {
        "id": "q2lPDh5g8zOC"
      },
      "execution_count": null,
      "outputs": []
    },
    {
      "cell_type": "code",
      "source": [
        "class SchoolStudent:\n",
        "# When there are multiple constructors, the latest one overrides the old one.\n",
        "\n",
        "  def __init__(self, math, science):\n",
        "    print(\"Creating a School Student\")\n",
        "    self.math = math\n",
        "    self.science = science\n",
        "\n",
        "  def __init__(self):\n",
        "    print(\"Creating a School Student\")\n",
        "    self.math = 0\n",
        "    self.science = 1\n",
        "\n",
        "  def __str__(self):\n",
        "    print(\"The score of math is \" + str(self.math))\n",
        "    print(\"The score of science is \" + str(self.science))\n",
        "    return \"\"\n",
        "\n",
        "  def find_average(self):\n",
        "    avg = (self.math+self.science)/2\n",
        "    print(\"Average is \" + str(avg))\n"
      ],
      "metadata": {
        "id": "zszsASEU4mTt"
      },
      "execution_count": 122,
      "outputs": []
    },
    {
      "cell_type": "code",
      "source": [
        "s1 = SchoolStudent()"
      ],
      "metadata": {
        "colab": {
          "base_uri": "https://localhost:8080/"
        },
        "id": "3A796Chd4mWu",
        "outputId": "c39f7adb-7e33-457f-c201-d3a8c936ff21"
      },
      "execution_count": 123,
      "outputs": [
        {
          "output_type": "stream",
          "name": "stdout",
          "text": [
            "Creating a School Student\n"
          ]
        }
      ]
    },
    {
      "cell_type": "code",
      "source": [
        "print(s1.math)\n",
        "print(s1.science)"
      ],
      "metadata": {
        "colab": {
          "base_uri": "https://localhost:8080/"
        },
        "id": "ln51lUuZ4mZo",
        "outputId": "eb4bc30f-e7ae-4b4f-c1bb-243550f01bab"
      },
      "execution_count": 124,
      "outputs": [
        {
          "output_type": "stream",
          "name": "stdout",
          "text": [
            "0\n",
            "1\n"
          ]
        }
      ]
    },
    {
      "cell_type": "code",
      "source": [
        "s1.find_average()"
      ],
      "metadata": {
        "colab": {
          "base_uri": "https://localhost:8080/"
        },
        "id": "FLPkVlLh4mby",
        "outputId": "4292fa96-033a-4274-f41c-0f274e8f0f3d"
      },
      "execution_count": 119,
      "outputs": [
        {
          "output_type": "stream",
          "name": "stdout",
          "text": [
            "Average is 0.0\n"
          ]
        }
      ]
    },
    {
      "cell_type": "code",
      "source": [
        "print(s1)"
      ],
      "metadata": {
        "colab": {
          "base_uri": "https://localhost:8080/"
        },
        "id": "KHu8DRgs8WO9",
        "outputId": "6a2d6238-a17d-4a19-e347-4334052c8e00"
      },
      "execution_count": 120,
      "outputs": [
        {
          "output_type": "stream",
          "name": "stdout",
          "text": [
            "The score of math is 0\n",
            "The score of science is 0\n",
            "\n"
          ]
        }
      ]
    },
    {
      "cell_type": "code",
      "source": [
        "s2 = SchoolStudent(90,95)"
      ],
      "metadata": {
        "colab": {
          "base_uri": "https://localhost:8080/",
          "height": 146
        },
        "id": "jfnrdM238WTE",
        "outputId": "4d045319-279b-4b28-bb4e-8240fcde4f86"
      },
      "execution_count": 121,
      "outputs": [
        {
          "output_type": "error",
          "ename": "TypeError",
          "evalue": "SchoolStudent.__init__() takes 1 positional argument but 3 were given",
          "traceback": [
            "\u001b[0;31m---------------------------------------------------------------------------\u001b[0m",
            "\u001b[0;31mTypeError\u001b[0m                                 Traceback (most recent call last)",
            "\u001b[0;32m<ipython-input-121-e327c6dd8d67>\u001b[0m in \u001b[0;36m<cell line: 1>\u001b[0;34m()\u001b[0m\n\u001b[0;32m----> 1\u001b[0;31m \u001b[0ms2\u001b[0m \u001b[0;34m=\u001b[0m \u001b[0mSchoolStudent\u001b[0m\u001b[0;34m(\u001b[0m\u001b[0;36m90\u001b[0m\u001b[0;34m,\u001b[0m\u001b[0;36m95\u001b[0m\u001b[0;34m)\u001b[0m\u001b[0;34m\u001b[0m\u001b[0;34m\u001b[0m\u001b[0m\n\u001b[0m",
            "\u001b[0;31mTypeError\u001b[0m: SchoolStudent.__init__() takes 1 positional argument but 3 were given"
          ]
        }
      ]
    },
    {
      "cell_type": "code",
      "source": [
        "print(dir(s1))"
      ],
      "metadata": {
        "colab": {
          "base_uri": "https://localhost:8080/"
        },
        "id": "PEBC0d5k8WUq",
        "outputId": "7de2463e-9e49-41cd-978a-0b634e7086ab"
      },
      "execution_count": 89,
      "outputs": [
        {
          "output_type": "stream",
          "name": "stdout",
          "text": [
            "['__class__', '__delattr__', '__dict__', '__dir__', '__doc__', '__eq__', '__format__', '__ge__', '__getattribute__', '__gt__', '__hash__', '__init__', '__init_subclass__', '__le__', '__lt__', '__module__', '__ne__', '__new__', '__reduce__', '__reduce_ex__', '__repr__', '__setattr__', '__sizeof__', '__str__', '__subclasshook__', '__weakref__', 'find_average', 'math', 'name', 'science', 'std']\n"
          ]
        }
      ]
    },
    {
      "cell_type": "code",
      "source": [
        "s2 = SchoolStudent(96,90)"
      ],
      "metadata": {
        "colab": {
          "base_uri": "https://localhost:8080/",
          "height": 146
        },
        "id": "RGKJV1Jf8WWN",
        "outputId": "8bbfc6e9-72eb-4081-b48d-af3d2ac6f99e"
      },
      "execution_count": 125,
      "outputs": [
        {
          "output_type": "error",
          "ename": "TypeError",
          "evalue": "SchoolStudent.__init__() takes 1 positional argument but 3 were given",
          "traceback": [
            "\u001b[0;31m---------------------------------------------------------------------------\u001b[0m",
            "\u001b[0;31mTypeError\u001b[0m                                 Traceback (most recent call last)",
            "\u001b[0;32m<ipython-input-125-8f281b923c03>\u001b[0m in \u001b[0;36m<cell line: 1>\u001b[0;34m()\u001b[0m\n\u001b[0;32m----> 1\u001b[0;31m \u001b[0ms2\u001b[0m \u001b[0;34m=\u001b[0m \u001b[0mSchoolStudent\u001b[0m\u001b[0;34m(\u001b[0m\u001b[0;36m96\u001b[0m\u001b[0;34m,\u001b[0m\u001b[0;36m90\u001b[0m\u001b[0;34m)\u001b[0m\u001b[0;34m\u001b[0m\u001b[0;34m\u001b[0m\u001b[0m\n\u001b[0m",
            "\u001b[0;31mTypeError\u001b[0m: SchoolStudent.__init__() takes 1 positional argument but 3 were given"
          ]
        }
      ]
    },
    {
      "cell_type": "code",
      "source": [
        "class Fraction():\n",
        "  def __init__(self, num, den):\n",
        "    self.num=num\n",
        "    self.den=den\n",
        "    if(den==0):\n",
        "      print(\"Denominator can't be 0\")\n",
        "      self.den=1\n",
        "\n",
        "  def __str__(self):\n",
        "    print(\"I get called when you print\")\n",
        "    return \"{} / {}\".format(self.num, self.den)\n",
        "\n",
        "  def __add__(self, arg2):\n",
        "    self.num = self.num * arg2.den + arg2.num * self.den\n",
        "    self.den = self.den * arg2.den\n",
        "    #return \"{}/{}\".format(self.num, self.den)\n",
        "    return self.num/self.den\n",
        "\n",
        "  def __sub__(self, arg2):\n",
        "    self.num = self.num * arg2.den - arg2.num * self.den\n",
        "    self.den = self.den * arg2.den\n",
        "    return self.num/self.den\n",
        "\n",
        "  def __truediv__(self, arg2):\n",
        "    self.num = self.num * arg2.den\n",
        "    self.den = self.den * arg2.num\n",
        "    return self.num/self.den\n"
      ],
      "metadata": {
        "id": "KKVo3L188WYC"
      },
      "execution_count": 179,
      "outputs": []
    },
    {
      "cell_type": "code",
      "source": [
        "f1 = Fraction(3,5)\n",
        "f2 = Fraction(4,5)"
      ],
      "metadata": {
        "id": "lBtEW6mxSedk"
      },
      "execution_count": 180,
      "outputs": []
    },
    {
      "cell_type": "code",
      "source": [
        "print(f1)"
      ],
      "metadata": {
        "colab": {
          "base_uri": "https://localhost:8080/"
        },
        "id": "0q3LW0UjSegJ",
        "outputId": "638c586a-3e1f-4bde-ba09-54204dedfc0c"
      },
      "execution_count": 151,
      "outputs": [
        {
          "output_type": "stream",
          "name": "stdout",
          "text": [
            "I get called when you print\n",
            "3 / 5\n"
          ]
        }
      ]
    },
    {
      "cell_type": "code",
      "source": [
        "print(f2)"
      ],
      "metadata": {
        "colab": {
          "base_uri": "https://localhost:8080/"
        },
        "id": "fJhDavr_SeiV",
        "outputId": "f2312500-65e4-441e-cd99-16ab074c6c73"
      },
      "execution_count": 152,
      "outputs": [
        {
          "output_type": "stream",
          "name": "stdout",
          "text": [
            "I get called when you print\n",
            "4 / 5\n"
          ]
        }
      ]
    },
    {
      "cell_type": "code",
      "source": [
        "f1 + f2"
      ],
      "metadata": {
        "colab": {
          "base_uri": "https://localhost:8080/",
          "height": 146
        },
        "id": "BV50Mt4KSekj",
        "outputId": "4421a1b7-41d0-4933-903c-2de3b54c08db"
      },
      "execution_count": 153,
      "outputs": [
        {
          "output_type": "error",
          "ename": "TypeError",
          "evalue": "unsupported operand type(s) for +: 'Fraction' and 'Fraction'",
          "traceback": [
            "\u001b[0;31m---------------------------------------------------------------------------\u001b[0m",
            "\u001b[0;31mTypeError\u001b[0m                                 Traceback (most recent call last)",
            "\u001b[0;32m<ipython-input-153-ad0256b81ae0>\u001b[0m in \u001b[0;36m<cell line: 1>\u001b[0;34m()\u001b[0m\n\u001b[0;32m----> 1\u001b[0;31m \u001b[0mf1\u001b[0m \u001b[0;34m+\u001b[0m \u001b[0mf2\u001b[0m\u001b[0;34m\u001b[0m\u001b[0;34m\u001b[0m\u001b[0m\n\u001b[0m",
            "\u001b[0;31mTypeError\u001b[0m: unsupported operand type(s) for +: 'Fraction' and 'Fraction'"
          ]
        }
      ]
    },
    {
      "cell_type": "code",
      "source": [
        "[1,2]+[3,4]"
      ],
      "metadata": {
        "colab": {
          "base_uri": "https://localhost:8080/"
        },
        "id": "2RmtoGrfSen9",
        "outputId": "36a5e090-90ba-458f-841b-24595b885a10"
      },
      "execution_count": 154,
      "outputs": [
        {
          "output_type": "execute_result",
          "data": {
            "text/plain": [
              "[1, 2, 3, 4]"
            ]
          },
          "metadata": {},
          "execution_count": 154
        }
      ]
    },
    {
      "cell_type": "code",
      "source": [
        "f1 + f2"
      ],
      "metadata": {
        "colab": {
          "base_uri": "https://localhost:8080/"
        },
        "id": "iuJUNBNK8WaT",
        "outputId": "8631c987-67f6-440b-a7f7-da4b6dc887f1"
      },
      "execution_count": 172,
      "outputs": [
        {
          "output_type": "execute_result",
          "data": {
            "text/plain": [
              "1.4"
            ]
          },
          "metadata": {},
          "execution_count": 172
        }
      ]
    },
    {
      "cell_type": "code",
      "source": [
        "f1 - f2"
      ],
      "metadata": {
        "colab": {
          "base_uri": "https://localhost:8080/"
        },
        "id": "ZZmKtuFF8WdL",
        "outputId": "e5f712a4-0a3f-40a3-b774-a09a9ff71185"
      },
      "execution_count": 173,
      "outputs": [
        {
          "output_type": "execute_result",
          "data": {
            "text/plain": [
              "0.6"
            ]
          },
          "metadata": {},
          "execution_count": 173
        }
      ]
    },
    {
      "cell_type": "code",
      "source": [
        "f1 / f2"
      ],
      "metadata": {
        "colab": {
          "base_uri": "https://localhost:8080/"
        },
        "id": "UaMfQgK78WgR",
        "outputId": "bdc6dacf-dd2a-4cf9-c093-4860666d6c75"
      },
      "execution_count": 181,
      "outputs": [
        {
          "output_type": "execute_result",
          "data": {
            "text/plain": [
              "0.75"
            ]
          },
          "metadata": {},
          "execution_count": 181
        }
      ]
    },
    {
      "cell_type": "code",
      "source": [
        "class Person():\n",
        "  def __init__(self, aadhar, name, mobile):\n",
        "    self.aadhar=aadhar\n",
        "    self.name=name\n",
        "    self.mobile=mobile"
      ],
      "metadata": {
        "id": "zj9sDBPtuEGC"
      },
      "execution_count": 183,
      "outputs": []
    },
    {
      "cell_type": "code",
      "source": [
        "Prem = Person(\"1234\", \"Prem\", 123456789)"
      ],
      "metadata": {
        "id": "fSbI4TVeuEIl"
      },
      "execution_count": 184,
      "outputs": []
    },
    {
      "cell_type": "code",
      "source": [],
      "metadata": {
        "id": "LaE2KoacuELC"
      },
      "execution_count": null,
      "outputs": []
    },
    {
      "cell_type": "code",
      "source": [],
      "metadata": {
        "id": "wpGQaMWmuEOj"
      },
      "execution_count": null,
      "outputs": []
    },
    {
      "cell_type": "code",
      "source": [],
      "metadata": {
        "id": "YnUGL87buEQl"
      },
      "execution_count": null,
      "outputs": []
    },
    {
      "cell_type": "code",
      "source": [],
      "metadata": {
        "id": "t9LxKaoQuESz"
      },
      "execution_count": null,
      "outputs": []
    },
    {
      "cell_type": "code",
      "source": [],
      "metadata": {
        "id": "2L9Neta1uEU3"
      },
      "execution_count": null,
      "outputs": []
    }
  ]
}