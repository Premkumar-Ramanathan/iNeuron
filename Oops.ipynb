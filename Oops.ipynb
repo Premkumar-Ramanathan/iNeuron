{
  "nbformat": 4,
  "nbformat_minor": 0,
  "metadata": {
    "colab": {
      "provenance": [],
      "authorship_tag": "ABX9TyNwv+bZ8z3Yr3w6WXGSU6dQ",
      "include_colab_link": true
    },
    "kernelspec": {
      "name": "python3",
      "display_name": "Python 3"
    },
    "language_info": {
      "name": "python"
    }
  },
  "cells": [
    {
      "cell_type": "markdown",
      "metadata": {
        "id": "view-in-github",
        "colab_type": "text"
      },
      "source": [
        "<a href=\"https://colab.research.google.com/github/Premkumar-Ramanathan/iNeuron/blob/main/Oops.ipynb\" target=\"_parent\"><img src=\"https://colab.research.google.com/assets/colab-badge.svg\" alt=\"Open In Colab\"/></a>"
      ]
    },
    {
      "cell_type": "code",
      "execution_count": 1,
      "metadata": {
        "id": "z3cadVVSTg3W"
      },
      "outputs": [],
      "source": [
        "class car:\n",
        "  def start():\n",
        "    print('Car Started')\n",
        "\n",
        "  def stop():\n",
        "    print('Car Stopped')"
      ]
    },
    {
      "cell_type": "code",
      "source": [
        "wagonR = car()"
      ],
      "metadata": {
        "id": "vFtn5Lk5lU9T"
      },
      "execution_count": 2,
      "outputs": []
    },
    {
      "cell_type": "code",
      "source": [
        "print(type(wagonR))"
      ],
      "metadata": {
        "colab": {
          "base_uri": "https://localhost:8080/"
        },
        "id": "wzfpv6YblU_f",
        "outputId": "8fbe231c-254f-4e9d-84f6-02c3d03ab077"
      },
      "execution_count": 3,
      "outputs": [
        {
          "output_type": "stream",
          "name": "stdout",
          "text": [
            "<class '__main__.car'>\n"
          ]
        }
      ]
    },
    {
      "cell_type": "code",
      "source": [
        "santro = car()\n",
        "print(type(santro))"
      ],
      "metadata": {
        "colab": {
          "base_uri": "https://localhost:8080/"
        },
        "id": "UsiCZXmtlVBg",
        "outputId": "9ece7dad-0951-4ccd-dd5a-a7b34171833f"
      },
      "execution_count": 4,
      "outputs": [
        {
          "output_type": "stream",
          "name": "stdout",
          "text": [
            "<class '__main__.car'>\n"
          ]
        }
      ]
    },
    {
      "cell_type": "code",
      "source": [
        "car.start()"
      ],
      "metadata": {
        "colab": {
          "base_uri": "https://localhost:8080/"
        },
        "id": "xi6wVbPulVD1",
        "outputId": "66e463d9-5200-4ff0-ee2a-09c388de13f0"
      },
      "execution_count": 5,
      "outputs": [
        {
          "output_type": "stream",
          "name": "stdout",
          "text": [
            "Car Started\n"
          ]
        }
      ]
    },
    {
      "cell_type": "code",
      "source": [
        "car.stop()"
      ],
      "metadata": {
        "colab": {
          "base_uri": "https://localhost:8080/"
        },
        "id": "IOdpU322lVHP",
        "outputId": "0254eab6-0629-4c35-ecce-1da112e76ee4"
      },
      "execution_count": 6,
      "outputs": [
        {
          "output_type": "stream",
          "name": "stdout",
          "text": [
            "Car Stopped\n"
          ]
        }
      ]
    },
    {
      "cell_type": "code",
      "source": [
        "class ATM():\n",
        "  def __init__(self):\n",
        "    print(\"I'm a magic method, you didn't call me but I still got call.\")\n",
        "    print(\"Creating an object of class ATM\")\n",
        "  def check_balance(self):\n",
        "    print(\"Balance is zero\")\n",
        "  def change_pin(self):\n",
        "    print(\"Pin changed\")"
      ],
      "metadata": {
        "id": "JTRB-ou84O1-"
      },
      "execution_count": 39,
      "outputs": []
    },
    {
      "cell_type": "code",
      "source": [
        "a1 = ATM()"
      ],
      "metadata": {
        "colab": {
          "base_uri": "https://localhost:8080/"
        },
        "id": "Yb015UeX4O4M",
        "outputId": "7b80d390-4251-46eb-b1fd-329a8518ae20"
      },
      "execution_count": 40,
      "outputs": [
        {
          "output_type": "stream",
          "name": "stdout",
          "text": [
            "I'm a magic method, you didn't call me but I still got call.\n",
            "Creating an object of class ATM\n"
          ]
        }
      ]
    },
    {
      "cell_type": "code",
      "source": [
        "a1.check_balance()"
      ],
      "metadata": {
        "colab": {
          "base_uri": "https://localhost:8080/"
        },
        "id": "xfk56IbJ4O6v",
        "outputId": "c35915ad-796f-42bb-82cb-8b2ffe48ae89"
      },
      "execution_count": 30,
      "outputs": [
        {
          "output_type": "stream",
          "name": "stdout",
          "text": [
            "Balance is zero\n"
          ]
        }
      ]
    },
    {
      "cell_type": "code",
      "source": [
        "a1."
      ],
      "metadata": {
        "id": "tDaK7xyQ4O-L"
      },
      "execution_count": null,
      "outputs": []
    },
    {
      "cell_type": "code",
      "source": [],
      "metadata": {
        "id": "aesM6sU34oHb"
      },
      "execution_count": null,
      "outputs": []
    },
    {
      "cell_type": "code",
      "source": [],
      "metadata": {
        "id": "mNTOwoal4oJp"
      },
      "execution_count": null,
      "outputs": []
    },
    {
      "cell_type": "code",
      "source": [],
      "metadata": {
        "id": "RO8LV5lO4oL9"
      },
      "execution_count": null,
      "outputs": []
    },
    {
      "cell_type": "code",
      "source": [],
      "metadata": {
        "id": "I9UiyT9u4oOo"
      },
      "execution_count": null,
      "outputs": []
    },
    {
      "cell_type": "code",
      "source": [],
      "metadata": {
        "id": "hoimvnFl4oRC"
      },
      "execution_count": null,
      "outputs": []
    },
    {
      "cell_type": "code",
      "source": [],
      "metadata": {
        "id": "EM2qBBC24oUL"
      },
      "execution_count": null,
      "outputs": []
    }
  ]
}