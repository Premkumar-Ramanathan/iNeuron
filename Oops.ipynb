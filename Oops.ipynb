{
  "nbformat": 4,
  "nbformat_minor": 0,
  "metadata": {
    "colab": {
      "provenance": [],
      "authorship_tag": "ABX9TyPgjjDHleVkHDpug2tx3kwp",
      "include_colab_link": true
    },
    "kernelspec": {
      "name": "python3",
      "display_name": "Python 3"
    },
    "language_info": {
      "name": "python"
    }
  },
  "cells": [
    {
      "cell_type": "markdown",
      "metadata": {
        "id": "view-in-github",
        "colab_type": "text"
      },
      "source": [
        "<a href=\"https://colab.research.google.com/github/Premkumar-Ramanathan/iNeuron/blob/main/Oops.ipynb\" target=\"_parent\"><img src=\"https://colab.research.google.com/assets/colab-badge.svg\" alt=\"Open In Colab\"/></a>"
      ]
    },
    {
      "cell_type": "code",
      "execution_count": 1,
      "metadata": {
        "id": "z3cadVVSTg3W"
      },
      "outputs": [],
      "source": [
        "class car:\n",
        "  def start():\n",
        "    print('Car Started')\n",
        "\n",
        "  def stop():\n",
        "    print('Car Stopped')"
      ]
    },
    {
      "cell_type": "code",
      "source": [
        "wagonR = car()"
      ],
      "metadata": {
        "id": "vFtn5Lk5lU9T"
      },
      "execution_count": 2,
      "outputs": []
    },
    {
      "cell_type": "code",
      "source": [
        "print(type(wagonR))"
      ],
      "metadata": {
        "colab": {
          "base_uri": "https://localhost:8080/"
        },
        "id": "wzfpv6YblU_f",
        "outputId": "8fbe231c-254f-4e9d-84f6-02c3d03ab077"
      },
      "execution_count": 3,
      "outputs": [
        {
          "output_type": "stream",
          "name": "stdout",
          "text": [
            "<class '__main__.car'>\n"
          ]
        }
      ]
    },
    {
      "cell_type": "code",
      "source": [
        "santro = car()\n",
        "print(type(santro))"
      ],
      "metadata": {
        "colab": {
          "base_uri": "https://localhost:8080/"
        },
        "id": "UsiCZXmtlVBg",
        "outputId": "9ece7dad-0951-4ccd-dd5a-a7b34171833f"
      },
      "execution_count": 4,
      "outputs": [
        {
          "output_type": "stream",
          "name": "stdout",
          "text": [
            "<class '__main__.car'>\n"
          ]
        }
      ]
    },
    {
      "cell_type": "code",
      "source": [
        "car.start()"
      ],
      "metadata": {
        "colab": {
          "base_uri": "https://localhost:8080/"
        },
        "id": "xi6wVbPulVD1",
        "outputId": "66e463d9-5200-4ff0-ee2a-09c388de13f0"
      },
      "execution_count": 5,
      "outputs": [
        {
          "output_type": "stream",
          "name": "stdout",
          "text": [
            "Car Started\n"
          ]
        }
      ]
    },
    {
      "cell_type": "code",
      "source": [
        "car.stop()"
      ],
      "metadata": {
        "colab": {
          "base_uri": "https://localhost:8080/"
        },
        "id": "IOdpU322lVHP",
        "outputId": "0254eab6-0629-4c35-ecce-1da112e76ee4"
      },
      "execution_count": 6,
      "outputs": [
        {
          "output_type": "stream",
          "name": "stdout",
          "text": [
            "Car Stopped\n"
          ]
        }
      ]
    },
    {
      "cell_type": "code",
      "source": [
        "class ATM():\n",
        "  def __init__(self):\n",
        "    print(\"I'm a magic method, you didn't call me but I still got call.\")\n",
        "    print(\"Creating an object of class ATM\")\n",
        "  def check_balance(self):\n",
        "    print(\"Balance is zero\")\n",
        "  def change_pin(self):\n",
        "    print(\"Pin changed\")"
      ],
      "metadata": {
        "id": "JTRB-ou84O1-"
      },
      "execution_count": 39,
      "outputs": []
    },
    {
      "cell_type": "code",
      "source": [
        "a1 = ATM()"
      ],
      "metadata": {
        "colab": {
          "base_uri": "https://localhost:8080/"
        },
        "id": "Yb015UeX4O4M",
        "outputId": "7b80d390-4251-46eb-b1fd-329a8518ae20"
      },
      "execution_count": 40,
      "outputs": [
        {
          "output_type": "stream",
          "name": "stdout",
          "text": [
            "I'm a magic method, you didn't call me but I still got call.\n",
            "Creating an object of class ATM\n"
          ]
        }
      ]
    },
    {
      "cell_type": "code",
      "source": [
        "a1.check_balance()"
      ],
      "metadata": {
        "colab": {
          "base_uri": "https://localhost:8080/"
        },
        "id": "xfk56IbJ4O6v",
        "outputId": "c35915ad-796f-42bb-82cb-8b2ffe48ae89"
      },
      "execution_count": 30,
      "outputs": [
        {
          "output_type": "stream",
          "name": "stdout",
          "text": [
            "Balance is zero\n"
          ]
        }
      ]
    },
    {
      "cell_type": "code",
      "source": [
        "print(dir(list()))"
      ],
      "metadata": {
        "colab": {
          "base_uri": "https://localhost:8080/"
        },
        "id": "tDaK7xyQ4O-L",
        "outputId": "32cb1e14-0ba1-43d8-854f-b9cf37b5f7f0"
      },
      "execution_count": 46,
      "outputs": [
        {
          "output_type": "stream",
          "name": "stdout",
          "text": [
            "['__add__', '__class__', '__class_getitem__', '__contains__', '__delattr__', '__delitem__', '__dir__', '__doc__', '__eq__', '__format__', '__ge__', '__getattribute__', '__getitem__', '__gt__', '__hash__', '__iadd__', '__imul__', '__init__', '__init_subclass__', '__iter__', '__le__', '__len__', '__lt__', '__mul__', '__ne__', '__new__', '__reduce__', '__reduce_ex__', '__repr__', '__reversed__', '__rmul__', '__setattr__', '__setitem__', '__sizeof__', '__str__', '__subclasshook__', 'append', 'clear', 'copy', 'count', 'extend', 'index', 'insert', 'pop', 'remove', 'reverse', 'sort']\n"
          ]
        }
      ]
    },
    {
      "cell_type": "code",
      "source": [
        "print(dir(set()))"
      ],
      "metadata": {
        "colab": {
          "base_uri": "https://localhost:8080/"
        },
        "id": "aesM6sU34oHb",
        "outputId": "764822bc-f351-43b6-b77d-a8c90a8c81e4"
      },
      "execution_count": 45,
      "outputs": [
        {
          "output_type": "stream",
          "name": "stdout",
          "text": [
            "['__and__', '__class__', '__class_getitem__', '__contains__', '__delattr__', '__dir__', '__doc__', '__eq__', '__format__', '__ge__', '__getattribute__', '__gt__', '__hash__', '__iand__', '__init__', '__init_subclass__', '__ior__', '__isub__', '__iter__', '__ixor__', '__le__', '__len__', '__lt__', '__ne__', '__new__', '__or__', '__rand__', '__reduce__', '__reduce_ex__', '__repr__', '__ror__', '__rsub__', '__rxor__', '__setattr__', '__sizeof__', '__str__', '__sub__', '__subclasshook__', '__xor__', 'add', 'clear', 'copy', 'difference', 'difference_update', 'discard', 'intersection', 'intersection_update', 'isdisjoint', 'issubset', 'issuperset', 'pop', 'remove', 'symmetric_difference', 'symmetric_difference_update', 'union', 'update']\n"
          ]
        }
      ]
    },
    {
      "cell_type": "code",
      "source": [
        "class Student():\n",
        "  def __init__(self):\n",
        "    print(\"I'm a student object\")\n",
        "    print('The address of self is ' + str(id(self)))\n",
        "\n",
        "  def study(self):\n",
        "    print(id(self))\n",
        "    print(\"Ok I will study\")\n",
        "  def play(self):\n",
        "    print(id(self))\n",
        "    print(self)\n",
        "    print(\"I will study tomorrow, let's play\")"
      ],
      "metadata": {
        "id": "mNTOwoal4oJp"
      },
      "execution_count": 56,
      "outputs": []
    },
    {
      "cell_type": "code",
      "source": [
        "s1 = Student()"
      ],
      "metadata": {
        "colab": {
          "base_uri": "https://localhost:8080/"
        },
        "id": "RO8LV5lO4oL9",
        "outputId": "f28534cf-9702-43bc-9b45-33c91261750f"
      },
      "execution_count": 57,
      "outputs": [
        {
          "output_type": "stream",
          "name": "stdout",
          "text": [
            "I'm a student object\n",
            "The address of self is 134243143937776\n"
          ]
        }
      ]
    },
    {
      "cell_type": "code",
      "source": [
        "s1.study()"
      ],
      "metadata": {
        "colab": {
          "base_uri": "https://localhost:8080/"
        },
        "id": "I9UiyT9u4oOo",
        "outputId": "4bb3e522-58bd-4169-d95c-7d0d3e3fa76a"
      },
      "execution_count": 58,
      "outputs": [
        {
          "output_type": "stream",
          "name": "stdout",
          "text": [
            "134243143937776\n",
            "Ok I will study\n"
          ]
        }
      ]
    },
    {
      "cell_type": "code",
      "source": [
        "s1.play()"
      ],
      "metadata": {
        "colab": {
          "base_uri": "https://localhost:8080/"
        },
        "id": "hoimvnFl4oRC",
        "outputId": "29f7a61d-703e-4aa4-970b-74cc2c33b118"
      },
      "execution_count": 59,
      "outputs": [
        {
          "output_type": "stream",
          "name": "stdout",
          "text": [
            "134243143937776\n",
            "<__main__.Student object at 0x7a17eae86ef0>\n",
            "I will study tomorrow, let's play\n"
          ]
        }
      ]
    },
    {
      "cell_type": "code",
      "source": [],
      "metadata": {
        "id": "EM2qBBC24oUL"
      },
      "execution_count": null,
      "outputs": []
    }
  ]
}